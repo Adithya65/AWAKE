{
 "cells": [
  {
   "cell_type": "code",
   "execution_count": 1,
   "id": "ee2f4ab4",
   "metadata": {},
   "outputs": [
    {
     "name": "stdout",
     "output_type": "stream",
     "text": [
      "Epoch 1/10\n",
      "38/38 [==============================] - 4s 83ms/step - loss: 3.0677 - accuracy: 0.6324 - val_loss: 0.5716 - val_accuracy: 0.6555\n",
      "Epoch 2/10\n",
      "38/38 [==============================] - 3s 68ms/step - loss: 0.4099 - accuracy: 0.7853 - val_loss: 0.3060 - val_accuracy: 0.8930\n",
      "Epoch 3/10\n",
      "38/38 [==============================] - 5s 131ms/step - loss: 0.2913 - accuracy: 0.8739 - val_loss: 0.2966 - val_accuracy: 0.8997\n",
      "Epoch 4/10\n",
      "38/38 [==============================] - 3s 67ms/step - loss: 0.1485 - accuracy: 0.9474 - val_loss: 0.1631 - val_accuracy: 0.9632\n",
      "Epoch 5/10\n",
      "38/38 [==============================] - 2s 59ms/step - loss: 0.0855 - accuracy: 0.9791 - val_loss: 0.1551 - val_accuracy: 0.9565\n",
      "Epoch 6/10\n",
      "38/38 [==============================] - 3s 66ms/step - loss: 0.0338 - accuracy: 0.9916 - val_loss: 0.0730 - val_accuracy: 0.9799\n",
      "Epoch 7/10\n",
      "38/38 [==============================] - 2s 61ms/step - loss: 0.0160 - accuracy: 1.0000 - val_loss: 0.0917 - val_accuracy: 0.9699\n",
      "Epoch 8/10\n",
      "38/38 [==============================] - 2s 65ms/step - loss: 0.0226 - accuracy: 0.9950 - val_loss: 0.1992 - val_accuracy: 0.9532\n",
      "Epoch 9/10\n",
      "38/38 [==============================] - 4s 117ms/step - loss: 0.0232 - accuracy: 0.9942 - val_loss: 0.1527 - val_accuracy: 0.9632\n",
      "Epoch 10/10\n",
      "38/38 [==============================] - 2s 55ms/step - loss: 0.0099 - accuracy: 0.9983 - val_loss: 0.1622 - val_accuracy: 0.9532\n",
      "10/10 [==============================] - 0s 13ms/step - loss: 0.1622 - accuracy: 0.9532\n",
      "Test loss: 0.1622239351272583\n",
      "Test accuracy: 0.953177273273468\n"
     ]
    }
   ],
   "source": [
    "import tensorflow as tf\n",
    "import numpy as np\n",
    "import librosa\n",
    "import os\n",
    "\n",
    "# Define the CNN model\n",
    "def snore_detector():\n",
    "    model = tf.keras.Sequential([\n",
    "        tf.keras.layers.Input(shape=(128, 44, 1)),\n",
    "        tf.keras.layers.Conv2D(16, (3,3), activation='relu', padding='same'),\n",
    "        tf.keras.layers.MaxPooling2D((2,2)),\n",
    "        tf.keras.layers.Conv2D(32, (3,3), activation='relu', padding='same'),\n",
    "        tf.keras.layers.MaxPooling2D((2,2)),\n",
    "        tf.keras.layers.Flatten(),\n",
    "        tf.keras.layers.Dense(64, activation='relu'),\n",
    "        tf.keras.layers.Dense(1, activation='sigmoid')\n",
    "    ])\n",
    "    model.compile(optimizer='adam',\n",
    "                  loss='binary_crossentropy',\n",
    "                  metrics=['accuracy'])\n",
    "    return model\n",
    "\n",
    "# Preprocess the audio file into a spectrogram\n",
    "def preprocess_audio(file_path):\n",
    "    y, sr = librosa.load(file_path)\n",
    "    spectrogram = librosa.feature.melspectrogram(y=y, sr=sr)\n",
    "    spectrogram = librosa.power_to_db(spectrogram, ref=np.max)\n",
    "    spectrogram = np.expand_dims(spectrogram, axis=-1)\n",
    "    return spectrogram\n",
    "\n",
    "# Load the data\n",
    "def load_data(data_path):\n",
    "    x_train = []\n",
    "    y_train = []\n",
    "    for folder_name in os.listdir(data_path):\n",
    "        folder_path = os.path.join(data_path, folder_name)\n",
    "        for file_name in os.listdir(folder_path):\n",
    "            file_path = os.path.join(folder_path, file_name)\n",
    "            # Preprocess the audio files into spectrograms\n",
    "            spectrogram = preprocess_audio(file_path)\n",
    "            x_train.append(spectrogram)\n",
    "            # Label snoring sounds as 1 and non-snoring sounds as 0\n",
    "            if folder_name == 'snoring':\n",
    "                y_train.append(1)\n",
    "            else:\n",
    "                y_train.append(0)\n",
    "    x_train = np.array(x_train)\n",
    "    y_train = np.array(y_train)\n",
    "    return x_train, y_train\n",
    "\n",
    "# Split the data into training and testing sets\n",
    "def split_data(x, y, test_size=0.2):\n",
    "    indices = np.random.permutation(len(x))\n",
    "    test_size = int(len(x) * test_size)\n",
    "    x_train, y_train = x[indices[test_size:]], y[indices[test_size:]]\n",
    "    x_test, y_test = x[indices[:test_size]], y[indices[:test_size]]\n",
    "    return x_train, y_train, x_test, y_test\n",
    "\n",
    "# Train the model\n",
    "def train_model(model, x_train, y_train, x_test, y_test, epochs=10):\n",
    "    model.fit(x_train, y_train, validation_data=(x_test, y_test), epochs=epochs)\n",
    "    model.save('snoring_local.h5')\n",
    "    return model\n",
    "\n",
    "# Evaluate the model\n",
    "def evaluate_model(model, x_test, y_test):\n",
    "    loss, accuracy = model.evaluate(x_test, y_test)\n",
    "    return loss, accuracy\n",
    "\n",
    "# Run the program\n",
    "if __name__ == '__main__':\n",
    "    data_path = 'snoriing_1/'\n",
    "    x, y = load_data(data_path)\n",
    "    x_train, y_train, x_test, y_test = split_data(x, y)\n",
    "    model = snore_detector()\n",
    "    model = train_model(model, x_train, y_train, x_test, y_test)\n",
    "    loss, accuracy = evaluate_model(model, x_test, y_test)\n",
    "    print('Test loss:', loss)\n",
    "    print('Test accuracy:', accuracy)\n"
   ]
  },
  {
   "cell_type": "code",
   "execution_count": 2,
   "id": "d0fcb99b",
   "metadata": {},
   "outputs": [],
   "source": [
    "from tensorflow.keras.models import load_model\n",
    "\n",
    "# Load the model from a file\n",
    "model = load_model('snoring_local.h5')\n"
   ]
  },
  {
   "cell_type": "code",
   "execution_count": 16,
   "id": "7b9937eb",
   "metadata": {},
   "outputs": [
    {
     "name": "stdout",
     "output_type": "stream",
     "text": [
      "Recording...\n",
      "Audio file saved to audio.wav\n",
      "1/1 [==============================] - 0s 16ms/step\n"
     ]
    },
    {
     "data": {
      "text/plain": [
       "array([[1.8746925e-15]], dtype=float32)"
      ]
     },
     "execution_count": 16,
     "metadata": {},
     "output_type": "execute_result"
    }
   ],
   "source": [
    "import sounddevice as sd\n",
    "from scipy.io.wavfile import write\n",
    "\n",
    "# Sampling frequency\n",
    "freq = 44100\n",
    "\n",
    "# Duration of recording in seconds\n",
    "duration = 1\n",
    "\n",
    "# Start recording audio\n",
    "print(\"Recording...\")\n",
    "audio = sd.rec(int(freq * duration), samplerate=freq, channels=1)\n",
    "\n",
    "# Wait for recording to finish\n",
    "sd.wait()\n",
    "\n",
    "# Save audio to a WAV file\n",
    "write(\"audio.wav\", freq, audio)\n",
    "print(f\"Audio file saved to audio.wav\")\n",
    "x=preprocess_audio(\"audio.wav\")\n",
    "model.predict(x)"
   ]
  },
  {
   "cell_type": "code",
   "execution_count": 15,
   "id": "68d53401",
   "metadata": {},
   "outputs": [],
   "source": [
    "def preprocess_audio(filename):\n",
    "    # load audio file\n",
    "    audio, sample_rate = librosa.load(filename, sr=16000)\n",
    "\n",
    "    # extract features\n",
    "    stft = np.abs(librosa.stft(audio, hop_length=512, n_fft=2048))\n",
    "    mel = librosa.feature.melspectrogram(sr=sample_rate, S=stft**2)\n",
    "    log_mel = librosa.power_to_db(mel)\n",
    "\n",
    "    # normalize to mean=0, std=1\n",
    "    mean = np.mean(log_mel)\n",
    "    std = np.std(log_mel)\n",
    "    norm_mel = (log_mel - mean) / std\n",
    "\n",
    "    # resize to match expected input shape of model\n",
    "    resized = cv2.resize(norm_mel, (44, 128), interpolation=cv2.INTER_AREA)\n",
    "    return resized.reshape((1, 128, 44, 1))\n"
   ]
  },
  {
   "cell_type": "code",
   "execution_count": 9,
   "id": "e8579a2e",
   "metadata": {},
   "outputs": [],
   "source": [
    "import cv2 \n"
   ]
  },
  {
   "cell_type": "code",
   "execution_count": null,
   "id": "c43836e2",
   "metadata": {},
   "outputs": [],
   "source": []
  }
 ],
 "metadata": {
  "kernelspec": {
   "display_name": "Python 3 (ipykernel)",
   "language": "python",
   "name": "python3"
  },
  "language_info": {
   "codemirror_mode": {
    "name": "ipython",
    "version": 3
   },
   "file_extension": ".py",
   "mimetype": "text/x-python",
   "name": "python",
   "nbconvert_exporter": "python",
   "pygments_lexer": "ipython3",
   "version": "3.10.8"
  }
 },
 "nbformat": 4,
 "nbformat_minor": 5
}
